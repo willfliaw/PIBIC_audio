{
 "cells": [
  {
   "cell_type": "markdown",
   "metadata": {},
   "source": [
    "# Avaliar predições"
   ]
  },
  {
   "cell_type": "code",
   "execution_count": 1,
   "metadata": {},
   "outputs": [],
   "source": [
    "import os\n",
    "import sys\n",
    "\n",
    "import pandas as pd\n",
    "import numpy as np\n",
    "\n",
    "sys.path.append(os.path.abspath(os.path.join(os.getcwd(), os.pardir)))\n",
    "\n",
    "import utils"
   ]
  },
  {
   "cell_type": "code",
   "execution_count": 2,
   "metadata": {},
   "outputs": [
    {
     "name": "stdout",
     "output_type": "stream",
     "text": [
      "['mfcc1_mean', 'mfcc1_var', 'delta1_var', 'd_delta1_mean', 'd_delta1_max', 'mfcc2_mean', 'mfcc2_max', 'delta2_var', 'd_delta2_mean', 'd_delta2_max', 'mfcc3_mean', 'mfcc3_var', 'delta3_var', 'delta3_max', 'd_delta3_var', 'd_delta3_max', 'mfcc4_mean', 'mfcc4_max', 'd_delta4_var', 'd_delta4_max', 'mfcc5_mean', 'mfcc5_max', 'delta5_max', 'd_delta5_mean', 'd_delta5_var', 'd_delta5_max', 'mfcc6_mean', 'mfcc6_var', 'mfcc6_max', 'delta6_max', 'd_delta6_mean', 'd_delta6_var', 'mfcc7_mean', 'mfcc7_max', 'delta7_var', 'mfcc8_max', 'delta8_max', 'mfcc9_mean', 'mfcc9_var', 'mfcc10_mean', 'delta10_var', 'delta11_max', 'd_delta11_mean', 'd_delta11_var', 'mfcc12_var', 'delta12_mean', 'delta12_var', 'd_delta12_max', 'mfcc13_mean', 'delta13_mean', 'd_delta13_var', 'chroma1_mean', 'chroma1_var', 'chroma2_var', 'chroma3_var', 'chroma5_mean', 'chroma5_var', 'chroma6_var', 'chroma7_var', 'chroma8_mean', 'chroma9_var', 'chroma12_mean', 'chroma12_max', 'zcr_mean', 'zcr_max', 'spec_cent_max', 'spec_roll_mean', 'spec_roll_var', 'rmse_var', 'rmse_max', 'energy_var', 'energy_max', 'f0_mean']\n",
      "['mfcc1_mean', 'mfcc1_var', 'mfcc1_max', 'delta1_var', 'delta1_max', 'd_delta1_var', 'd_delta1_max', 'mfcc2_mean', 'delta2_var', 'd_delta2_var', 'mfcc3_mean', 'mfcc3_var', 'delta3_var', 'd_delta3_var', 'd_delta3_max', 'mfcc4_mean', 'delta4_var', 'd_delta4_var', 'mfcc5_mean', 'mfcc5_max', 'delta5_var', 'delta5_max', 'd_delta5_var', 'd_delta5_max', 'mfcc6_var', 'mfcc6_max', 'delta6_var', 'd_delta6_var', 'mfcc7_mean', 'mfcc7_var', 'delta7_var', 'd_delta7_var', 'mfcc8_mean', 'mfcc8_var', 'delta8_var', 'delta8_max', 'd_delta8_var', 'd_delta8_max', 'mfcc9_mean', 'mfcc9_var', 'mfcc9_max', 'delta9_var', 'delta9_max', 'd_delta9_var', 'mfcc10_mean', 'delta10_var', 'delta10_max', 'd_delta10_var', 'd_delta10_max', 'mfcc11_mean', 'mfcc11_var', 'mfcc11_max', 'delta11_max', 'd_delta11_var', 'd_delta11_max', 'mfcc12_mean', 'mfcc12_var', 'mfcc13_mean', 'delta13_var', 'd_delta13_var', 'chroma1_mean', 'chroma2_mean', 'chroma3_mean', 'chroma4_mean', 'chroma4_var', 'chroma6_mean', 'chroma6_var', 'chroma7_mean', 'chroma7_var', 'chroma8_mean', 'chroma8_var', 'chroma9_mean', 'chroma9_var', 'chroma10_mean', 'chroma10_var', 'chroma11_mean', 'chroma11_var', 'chroma12_mean', 'chroma12_var', 'zcr_var', 'zcr_max', 'spec_cent_mean', 'spec_roll_mean', 'spec_roll_var', 'rmse_mean', 'rmse_var', 'rmse_max', 'energy_mean', 'energy_var', 'energy_max', 'f0_mean', 'f0_var', 'f0_max']\n",
      "['mfcc1_mean', 'mfcc1_var', 'mfcc1_max', 'delta1_var', 'd_delta1_var', 'd_delta1_max', 'mfcc2_mean', 'mfcc2_max', 'delta2_max', 'd_delta2_var', 'mfcc3_mean', 'mfcc3_var', 'mfcc3_max', 'delta3_var', 'd_delta3_var', 'mfcc4_mean', 'mfcc4_max', 'd_delta4_var', 'mfcc5_mean', 'mfcc5_var', 'mfcc5_max', 'delta5_var', 'mfcc6_mean', 'mfcc6_var', 'delta6_var', 'mfcc7_mean', 'mfcc7_var', 'delta7_var', 'delta7_max', 'mfcc8_mean', 'mfcc8_var', 'mfcc8_max', 'delta8_var', 'd_delta8_var', 'mfcc9_mean', 'd_delta9_var', 'mfcc10_mean', 'mfcc10_var', 'd_delta11_var', 'd_delta11_max', 'mfcc12_mean', 'mfcc13_mean', 'mfcc13_var', 'delta13_var', 'd_delta13_var', 'chroma9_mean', 'chroma10_mean', 'chroma11_mean', 'chroma11_var', 'zcr_mean', 'zcr_var', 'zcr_max', 'spec_cent_mean', 'spec_cent_var', 'spec_roll_mean', 'spec_roll_var', 'spec_roll_max', 'rmse_mean', 'rmse_var', 'rmse_max', 'energy_mean', 'energy_max', 'f0_mean', 'f0_var', 'f0_max']\n",
      "['mfcc1_mean', 'd_delta1_mean', 'mfcc3_mean', 'mfcc3_max', 'd_delta3_mean', 'mfcc5_mean', 'delta7_var', 'delta7_max', 'd_delta7_max', 'mfcc8_mean', 'delta8_var', 'd_delta8_var', 'mfcc9_var', 'delta9_var', 'delta9_max', 'd_delta9_var', 'delta11_var', 'delta11_max', 'd_delta11_var', 'delta12_var', 'd_delta12_var', 'mfcc13_mean', 'delta13_var', 'delta13_max', 'chroma3_mean', 'chroma4_mean', 'chroma6_mean', 'chroma7_mean', 'chroma8_mean', 'zcr_var']\n",
      "['mfcc1_mean', 'mfcc1_var', 'mfcc1_max', 'delta1_var', 'delta1_max', 'd_delta1_var', 'd_delta1_max', 'mfcc2_mean', 'mfcc2_max', 'delta2_var', 'delta2_max', 'd_delta2_var', 'mfcc3_mean', 'mfcc3_var', 'mfcc3_max', 'delta3_var', 'delta3_max', 'd_delta3_var', 'd_delta3_max', 'mfcc4_mean', 'mfcc4_max', 'delta4_var', 'd_delta4_var', 'mfcc5_mean', 'mfcc5_var', 'mfcc5_max', 'delta5_var', 'd_delta5_var', 'mfcc6_mean', 'mfcc6_var', 'mfcc6_max', 'delta6_var', 'd_delta6_var', 'mfcc7_mean', 'mfcc7_var', 'mfcc7_max', 'delta7_var', 'delta7_max', 'd_delta7_var', 'mfcc8_mean', 'mfcc8_var', 'delta8_var', 'd_delta8_var', 'mfcc9_mean', 'mfcc9_var', 'mfcc9_max', 'delta9_var', 'd_delta9_var', 'mfcc10_mean', 'delta10_var', 'd_delta10_var', 'd_delta10_max', 'mfcc11_mean', 'mfcc11_var', 'delta11_var', 'delta11_max', 'd_delta11_var', 'd_delta11_max', 'mfcc12_var', 'd_delta12_var', 'mfcc13_mean', 'mfcc13_var', 'delta13_var', 'd_delta13_var', 'chroma1_mean', 'chroma1_var', 'chroma2_mean', 'chroma2_var', 'chroma3_mean', 'chroma3_var', 'chroma4_mean', 'chroma4_var', 'chroma5_mean', 'chroma6_mean', 'chroma7_mean', 'chroma7_var', 'chroma8_mean', 'chroma8_var', 'chroma9_mean', 'chroma9_var', 'chroma10_mean', 'chroma10_var', 'chroma11_mean', 'chroma11_var', 'chroma12_mean', 'chroma12_var', 'zcr_mean', 'zcr_var', 'zcr_max', 'spec_cent_mean', 'spec_cent_var', 'spec_cent_max', 'spec_roll_mean', 'spec_roll_var', 'spec_roll_max', 'rmse_mean', 'rmse_var', 'rmse_max', 'energy_mean', 'energy_var', 'energy_max', 'f0_mean', 'f0_var', 'f0_max', 'tessiture']\n"
     ]
    }
   ],
   "source": [
    "for db in list(utils.OUTPUTS.keys()) + [\"concat\"]:\n",
    "  print(utils.load_from_file(os.path.join(utils.DESIRED_FEATURES_PATH, db, utils.get_best_sel(db, \"dnn\"))))"
   ]
  },
  {
   "cell_type": "markdown",
   "metadata": {},
   "source": [
    "## Modelo Emo-DB"
   ]
  },
  {
   "cell_type": "code",
   "execution_count": 3,
   "metadata": {},
   "outputs": [],
   "source": [
    "database = \"emodb\""
   ]
  },
  {
   "cell_type": "code",
   "execution_count": 4,
   "metadata": {},
   "outputs": [
    {
     "name": "stdout",
     "output_type": "stream",
     "text": [
      "Output classes: ['positive', 'neutral', 'negative']\n",
      "Best selection: rfecv_svc\n",
      "F1 dnn: 88.80%\n",
      "F1 dnn_cv: 91.62%\n"
     ]
    }
   ],
   "source": [
    "print(\"Output classes:\", list(utils.TRANSLATIONS.keys()))\n",
    "print(\"Best selection:\", utils.get_best_sel(database, \"dnn\")[:-4])\n",
    "print(\"F1 dnn: %.2f%%\" % (utils.load_from_file(os.path.join(utils.MODELS_PATH, database, utils.get_best_sel(database, \"dnn\")[:-4], \"dnn\", \"f1.pkl\"))*100))\n",
    "print(\"F1 dnn_cv: %.2f%%\" % (utils.load_from_file(os.path.join(utils.MODELS_PATH, database, utils.get_best_sel(database, \"dnn\")[:-4], \"dnn_cv\", \"f1.pkl\"))*100))"
   ]
  },
  {
   "cell_type": "code",
   "execution_count": 5,
   "metadata": {},
   "outputs": [
    {
     "name": "stdout",
     "output_type": "stream",
     "text": [
      "{'ravdess_songs_f1': 38.71, 'ravdess_speeches_f1': 37.1, 'soundtracks_f1': 35.6}\n"
     ]
    }
   ],
   "source": [
    "f1s = {}\n",
    "for f1 in os.listdir(os.path.join(utils.MODELS_PATH, database, utils.get_best_sel(database, \"dnn\")[:-4], \"dnn_cv\", \"preds\", \"f1s\")):\n",
    "  f1s[f1[:-4]] = np.round(utils.load_from_file(os.path.join(utils.MODELS_PATH, database, utils.get_best_sel(database, \"dnn\")[:-4], \"dnn_cv\", \"preds\", \"f1s\", f1))*100, 2)\n",
    "print(f1s)"
   ]
  },
  {
   "cell_type": "markdown",
   "metadata": {},
   "source": [
    "## Modelo RAVDESS songs"
   ]
  },
  {
   "cell_type": "code",
   "execution_count": 6,
   "metadata": {},
   "outputs": [],
   "source": [
    "database = \"ravdess_songs\""
   ]
  },
  {
   "cell_type": "code",
   "execution_count": 7,
   "metadata": {},
   "outputs": [
    {
     "name": "stdout",
     "output_type": "stream",
     "text": [
      "Output classes: ['positive', 'neutral', 'negative']\n",
      "Best selection: rfecv_rf\n",
      "F1 dnn: 95.53%\n",
      "F1 dnn_cv: 96.58%\n"
     ]
    }
   ],
   "source": [
    "print(\"Output classes:\", list(utils.TRANSLATIONS.keys()))\n",
    "print(\"Best selection:\", utils.get_best_sel(database, \"dnn\")[:-4])\n",
    "print(\"F1 dnn: %.2f%%\" % (utils.load_from_file(os.path.join(utils.MODELS_PATH, database, utils.get_best_sel(database, \"dnn\")[:-4], \"dnn\", \"f1.pkl\"))*100))\n",
    "print(\"F1 dnn_cv: %.2f%%\" % (utils.load_from_file(os.path.join(utils.MODELS_PATH, database, utils.get_best_sel(database, \"dnn\")[:-4], \"dnn_cv\", \"f1.pkl\"))*100))"
   ]
  },
  {
   "cell_type": "code",
   "execution_count": 8,
   "metadata": {},
   "outputs": [
    {
     "name": "stdout",
     "output_type": "stream",
     "text": [
      "{'emodb_f1': 42.47, 'ravdess_speeches_f1': 49.56, 'soundtracks_f1': 32.6}\n"
     ]
    }
   ],
   "source": [
    "f1s = {}\n",
    "for f1 in os.listdir(os.path.join(utils.MODELS_PATH, database, utils.get_best_sel(database, \"dnn\")[:-4], \"dnn_cv\", \"preds\", \"f1s\")):\n",
    "  f1s[f1[:-4]] = np.round(utils.load_from_file(os.path.join(utils.MODELS_PATH, database, utils.get_best_sel(database, \"dnn\")[:-4], \"dnn_cv\", \"preds\", \"f1s\", f1))*100, 2)\n",
    "print(f1s)"
   ]
  },
  {
   "cell_type": "markdown",
   "metadata": {},
   "source": [
    "## Modelo RAVDESS speeches"
   ]
  },
  {
   "cell_type": "code",
   "execution_count": 9,
   "metadata": {},
   "outputs": [],
   "source": [
    "database = \"ravdess_speeches\""
   ]
  },
  {
   "cell_type": "code",
   "execution_count": 10,
   "metadata": {},
   "outputs": [
    {
     "name": "stdout",
     "output_type": "stream",
     "text": [
      "Output classes: ['positive', 'neutral', 'negative']\n",
      "Best selection: rfecv_et\n",
      "F1 dnn: 73.45%\n",
      "F1 dnn_cv: 77.90%\n"
     ]
    }
   ],
   "source": [
    "print(\"Output classes:\", list(utils.TRANSLATIONS.keys()))\n",
    "print(\"Best selection:\", utils.get_best_sel(database, \"dnn\")[:-4])\n",
    "print(\"F1 dnn: %.2f%%\" % (utils.load_from_file(os.path.join(utils.MODELS_PATH, database, utils.get_best_sel(database, \"dnn\")[:-4], \"dnn\", \"f1.pkl\"))*100))\n",
    "print(\"F1 dnn_cv: %.2f%%\" % (utils.load_from_file(os.path.join(utils.MODELS_PATH, database, utils.get_best_sel(database, \"dnn\")[:-4], \"dnn_cv\", \"f1.pkl\"))*100))"
   ]
  },
  {
   "cell_type": "code",
   "execution_count": 11,
   "metadata": {},
   "outputs": [
    {
     "name": "stdout",
     "output_type": "stream",
     "text": [
      "{'emodb_f1': 41.18, 'ravdess_songs_f1': 55.95, 'soundtracks_f1': 21.08}\n"
     ]
    }
   ],
   "source": [
    "f1s = {}\n",
    "for f1 in os.listdir(os.path.join(utils.MODELS_PATH, database, utils.get_best_sel(database, \"dnn\")[:-4], \"dnn_cv\", \"preds\", \"f1s\")):\n",
    "  f1s[f1[:-4]] = np.round(utils.load_from_file(os.path.join(utils.MODELS_PATH, database, utils.get_best_sel(database, \"dnn\")[:-4], \"dnn_cv\", \"preds\", \"f1s\", f1))*100, 2)\n",
    "print(f1s)"
   ]
  },
  {
   "cell_type": "markdown",
   "metadata": {},
   "source": [
    "## Modelo Soundtracks"
   ]
  },
  {
   "cell_type": "code",
   "execution_count": 12,
   "metadata": {},
   "outputs": [],
   "source": [
    "database = \"soundtracks\""
   ]
  },
  {
   "cell_type": "code",
   "execution_count": 13,
   "metadata": {},
   "outputs": [
    {
     "name": "stdout",
     "output_type": "stream",
     "text": [
      "Output classes: ['positive', 'neutral', 'negative']\n",
      "Best selection: f_classif\n",
      "F1 dnn: 52.53%\n",
      "F1 dnn_cv: 44.22%\n"
     ]
    }
   ],
   "source": [
    "print(\"Output classes:\", list(utils.TRANSLATIONS.keys()))\n",
    "print(\"Best selection:\", utils.get_best_sel(database, \"dnn\")[:-4])\n",
    "print(\"F1 dnn: %.2f%%\" % (utils.load_from_file(os.path.join(utils.MODELS_PATH, database, utils.get_best_sel(database, \"dnn\")[:-4], \"dnn\", \"f1.pkl\"))*100))\n",
    "print(\"F1 dnn_cv: %.2f%%\" % (utils.load_from_file(os.path.join(utils.MODELS_PATH, database, utils.get_best_sel(database, \"dnn\")[:-4], \"dnn_cv\", \"f1.pkl\"))*100))"
   ]
  },
  {
   "cell_type": "code",
   "execution_count": 14,
   "metadata": {},
   "outputs": [
    {
     "name": "stdout",
     "output_type": "stream",
     "text": [
      "{'emodb_f1': 16.01, 'ravdess_songs_f1': 12.89, 'ravdess_speeches_f1': 18.05}\n"
     ]
    }
   ],
   "source": [
    "f1s = {}\n",
    "for f1 in os.listdir(os.path.join(utils.MODELS_PATH, database, utils.get_best_sel(database, \"dnn\")[:-4], \"dnn_cv\", \"preds\", \"f1s\")):\n",
    "  f1s[f1[:-4]] = np.round(utils.load_from_file(os.path.join(utils.MODELS_PATH, database, utils.get_best_sel(database, \"dnn\")[:-4], \"dnn_cv\", \"preds\", \"f1s\", f1))*100, 2)\n",
    "print(f1s)"
   ]
  },
  {
   "cell_type": "markdown",
   "metadata": {},
   "source": [
    "## Modelo Concatenado"
   ]
  },
  {
   "cell_type": "code",
   "execution_count": 15,
   "metadata": {},
   "outputs": [],
   "source": [
    "database = \"concat\""
   ]
  },
  {
   "cell_type": "code",
   "execution_count": 17,
   "metadata": {},
   "outputs": [
    {
     "name": "stdout",
     "output_type": "stream",
     "text": [
      "Output classes: ['positive', 'neutral', 'negative']\n",
      "Best selection: rfecv_et\n",
      "F1 dnn: 78.69%\n",
      "F1 dnn_cv: 84.16%\n"
     ]
    }
   ],
   "source": [
    "print(\"Output classes:\", list(utils.TRANSLATIONS.keys()))\n",
    "print(\"Best selection:\", utils.get_best_sel(database, \"dnn\")[:-4])\n",
    "print(\"F1 dnn: %.2f%%\" % (utils.load_from_file(os.path.join(utils.MODELS_PATH, database, utils.get_best_sel(database, \"dnn\")[:-4], \"dnn\", \"f1.pkl\"))*100))\n",
    "print(\"F1 dnn_cv: %.2f%%\" % (utils.load_from_file(os.path.join(utils.MODELS_PATH, database, utils.get_best_sel(database, \"dnn\")[:-4], \"dnn_cv\", \"f1.pkl\"))*100))"
   ]
  },
  {
   "cell_type": "code",
   "execution_count": 20,
   "metadata": {},
   "outputs": [
    {
     "data": {
      "text/plain": [
       "{'chi2.pkl': 66.07,\n",
       " 'f_classif.pkl': 71.54,\n",
       " 'rfecv_et.pkl': 78.69,\n",
       " 'rfecv_rf.pkl': 74.51,\n",
       " 'rfecv_svc.pkl': 75.4}"
      ]
     },
     "execution_count": 20,
     "metadata": {},
     "output_type": "execute_result"
    }
   ],
   "source": [
    "utils.get_f1s(\"concat\", \"dnn\")"
   ]
  }
 ],
 "metadata": {
  "interpreter": {
   "hash": "76447a908d801581fb451ba85757d312d32d91802ae9331a65b06a56c7a144f9"
  },
  "kernelspec": {
   "display_name": "Python 3.6.13 64-bit ('audio': conda)",
   "language": "python",
   "name": "python3"
  },
  "language_info": {
   "codemirror_mode": {
    "name": "ipython",
    "version": 3
   },
   "file_extension": ".py",
   "mimetype": "text/x-python",
   "name": "python",
   "nbconvert_exporter": "python",
   "pygments_lexer": "ipython3",
   "version": "3.9.9"
  },
  "orig_nbformat": 4
 },
 "nbformat": 4,
 "nbformat_minor": 2
}
